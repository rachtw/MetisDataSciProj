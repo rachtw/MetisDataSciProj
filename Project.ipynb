{
 "cells": [
  {
   "cell_type": "markdown",
   "metadata": {},
   "source": [
    "## Project: WSDM - KKBox's Churn Prediction Challenge\n",
    "### Whether a user will churn after their subscription expires?\n",
    "* **Goal and Evaluation**\n",
    "* **Data Description**"
   ]
  },
  {
   "cell_type": "markdown",
   "metadata": {},
   "source": [
    "#### Goal\n",
    "KKBox is an unlimited music streaming service in Asia. It provides over 30 million tracks and has a comprehensive Asia-Pop music library. KKBox currently offers monthly subscription to millions of users. Users can choose to auto-renew their subscriptions while manual renew, cancellation and then re-subcription are not uncommon. \"Currently, the company uses survival analysis techniques to determine the residual membership life time for each subscriber.\" The KKBox company hopes to discover why users leave and act accordingly to keep the users. They set the goal of competition: predict if a user will churn after their subscription expires. \n",
    "\n",
    "It is defined that a user does not churn at the membership expiration month if they turn out having subscription from any point of the next 30 days from the expiration date. That is, the cases of re-subscribing later after 30 days should be seen as a negative case. \n",
    "\n",
    "KKBox asks to predict for users who has membership expiring at a specific month, April 2017. The prediction model should minimize Log Loss, where <i>N</i> is number of observations, <i>p_i</i> is the probablity that obervation <i>i</i> is positive, and <i>y_i</i> indicates if the obervation <i>i</i> is positive (1) or negative (0):"
   ]
  },
  {
   "cell_type": "code",
   "execution_count": 6,
   "metadata": {},
   "outputs": [
    {
     "data": {
      "text/latex": [
       "\\begin{align} \n",
       "log\\_loss = -\\frac{1}{N}\\sum_{i=1}^N {(y_i\\log(p_i) + (1 - y_i)\\log(1 - p_i))}\n",
       "\\end{align}"
      ],
      "text/plain": [
       "<IPython.core.display.Latex object>"
      ]
     },
     "metadata": {},
     "output_type": "display_data"
    }
   ],
   "source": [
    "%%latex\n",
    "\\begin{align} \n",
    "log\\_loss = -\\frac{1}{N}\\sum_{i=1}^N {(y_i\\log(p_i) + (1 - y_i)\\log(1 - p_i))}\n",
    "\\end{align}"
   ]
  },
  {
   "cell_type": "markdown",
   "metadata": {},
   "source": [
    "#### Data description\n",
    "KKBox releases a train dataset (train.csv) and a test dataset (sample_submission_zero.csv), which only contains user ids and if they churn or not in March 2017 for train data, and in April 2017 for test data. KKBox further provides three related tables:\n",
    "* members.csv: **User information** including city, age, gender, membership beginning date, expiring date, and registration method.\n",
    "* transactions.csv: **Subscription transactions** of users up to 2/28/2017, including A. the details of **the plan** they chose: plan length in days, plan list price, actual amount paid, and auto renew or not, and B. the details of **the transaction**: transaction date, expiring date, payment method, and whether the user canceled the subscription.\n",
    "* user_logs.csv: **Daily music log** for users, including date, total seconds played, number of unique songs played, number of songs played partly, which are recorded separately into five ranges, the proportion played: [25%, 50%, 75%, 98.5%]"
   ]
  },
  {
   "cell_type": "code",
   "execution_count": null,
   "metadata": {
    "collapsed": true
   },
   "outputs": [],
   "source": []
  }
 ],
 "metadata": {
  "kernelspec": {
   "display_name": "Python 3",
   "language": "python",
   "name": "python3"
  },
  "language_info": {
   "codemirror_mode": {
    "name": "ipython",
    "version": 3
   },
   "file_extension": ".py",
   "mimetype": "text/x-python",
   "name": "python",
   "nbconvert_exporter": "python",
   "pygments_lexer": "ipython3",
   "version": "3.6.2"
  }
 },
 "nbformat": 4,
 "nbformat_minor": 2
}
